{
 "cells": [
  {
   "cell_type": "code",
   "execution_count": 2,
   "id": "a2879ce1",
   "metadata": {},
   "outputs": [],
   "source": [
    "import numpy as np\n",
    "import pandas as pd"
   ]
  },
  {
   "cell_type": "code",
   "execution_count": 4,
   "id": "13f53132",
   "metadata": {},
   "outputs": [],
   "source": [
    "df = pd.read_csv('smartprix_phones_cleaned.csv')"
   ]
  },
  {
   "cell_type": "code",
   "execution_count": 5,
   "id": "412a53ae",
   "metadata": {},
   "outputs": [
    {
     "data": {
      "text/html": [
       "<div>\n",
       "<style scoped>\n",
       "    .dataframe tbody tr th:only-of-type {\n",
       "        vertical-align: middle;\n",
       "    }\n",
       "\n",
       "    .dataframe tbody tr th {\n",
       "        vertical-align: top;\n",
       "    }\n",
       "\n",
       "    .dataframe thead th {\n",
       "        text-align: right;\n",
       "    }\n",
       "</style>\n",
       "<table border=\"1\" class=\"dataframe\">\n",
       "  <thead>\n",
       "    <tr style=\"text-align: right;\">\n",
       "      <th></th>\n",
       "      <th>brand_name</th>\n",
       "      <th>model</th>\n",
       "      <th>price</th>\n",
       "      <th>rating</th>\n",
       "      <th>5G</th>\n",
       "      <th>nfc</th>\n",
       "      <th>ir_blaster</th>\n",
       "      <th>processor_brand</th>\n",
       "      <th>num_cores</th>\n",
       "      <th>processor_speed</th>\n",
       "      <th>...</th>\n",
       "      <th>screen_size</th>\n",
       "      <th>resolution</th>\n",
       "      <th>refresh_rate</th>\n",
       "      <th>rear_cam_num</th>\n",
       "      <th>front_cam_num</th>\n",
       "      <th>prim_rear_cam</th>\n",
       "      <th>prim_front_cam</th>\n",
       "      <th>extended_memory_available</th>\n",
       "      <th>extended_upto</th>\n",
       "      <th>os</th>\n",
       "    </tr>\n",
       "  </thead>\n",
       "  <tbody>\n",
       "    <tr>\n",
       "      <th>0</th>\n",
       "      <td>motorola</td>\n",
       "      <td>Motorola Edge 60 Pro</td>\n",
       "      <td>29999</td>\n",
       "      <td>82.0</td>\n",
       "      <td>True</td>\n",
       "      <td>True</td>\n",
       "      <td>False</td>\n",
       "      <td>dimensity</td>\n",
       "      <td>8</td>\n",
       "      <td>3.35</td>\n",
       "      <td>...</td>\n",
       "      <td>6.70</td>\n",
       "      <td>1220 x 2712</td>\n",
       "      <td>120.0</td>\n",
       "      <td>3</td>\n",
       "      <td>1</td>\n",
       "      <td>50.0</td>\n",
       "      <td>50.0</td>\n",
       "      <td>0</td>\n",
       "      <td>NaN</td>\n",
       "      <td>android</td>\n",
       "    </tr>\n",
       "    <tr>\n",
       "      <th>1</th>\n",
       "      <td>vivo</td>\n",
       "      <td>Vivo T4 5G</td>\n",
       "      <td>21999</td>\n",
       "      <td>81.0</td>\n",
       "      <td>True</td>\n",
       "      <td>False</td>\n",
       "      <td>True</td>\n",
       "      <td>snapdragon</td>\n",
       "      <td>8</td>\n",
       "      <td>2.50</td>\n",
       "      <td>...</td>\n",
       "      <td>6.77</td>\n",
       "      <td>1080 x 2392</td>\n",
       "      <td>120.0</td>\n",
       "      <td>2</td>\n",
       "      <td>1</td>\n",
       "      <td>50.0</td>\n",
       "      <td>32.0</td>\n",
       "      <td>0</td>\n",
       "      <td>NaN</td>\n",
       "      <td>android</td>\n",
       "    </tr>\n",
       "    <tr>\n",
       "      <th>2</th>\n",
       "      <td>samsung</td>\n",
       "      <td>Samsung Galaxy S24 FE 5G</td>\n",
       "      <td>35558</td>\n",
       "      <td>86.0</td>\n",
       "      <td>True</td>\n",
       "      <td>True</td>\n",
       "      <td>False</td>\n",
       "      <td>exynos</td>\n",
       "      <td>10</td>\n",
       "      <td>3.11</td>\n",
       "      <td>...</td>\n",
       "      <td>6.70</td>\n",
       "      <td>1080 x 2340</td>\n",
       "      <td>120.0</td>\n",
       "      <td>3</td>\n",
       "      <td>1</td>\n",
       "      <td>50.0</td>\n",
       "      <td>10.0</td>\n",
       "      <td>0</td>\n",
       "      <td>NaN</td>\n",
       "      <td>android</td>\n",
       "    </tr>\n",
       "    <tr>\n",
       "      <th>3</th>\n",
       "      <td>motorola</td>\n",
       "      <td>Motorola Edge 60 Stylus</td>\n",
       "      <td>22990</td>\n",
       "      <td>88.0</td>\n",
       "      <td>True</td>\n",
       "      <td>True</td>\n",
       "      <td>False</td>\n",
       "      <td>snapdragon</td>\n",
       "      <td>8</td>\n",
       "      <td>2.40</td>\n",
       "      <td>...</td>\n",
       "      <td>6.70</td>\n",
       "      <td>1220 x 2712</td>\n",
       "      <td>120.0</td>\n",
       "      <td>2</td>\n",
       "      <td>1</td>\n",
       "      <td>50.0</td>\n",
       "      <td>32.0</td>\n",
       "      <td>1</td>\n",
       "      <td>1024.0</td>\n",
       "      <td>android</td>\n",
       "    </tr>\n",
       "    <tr>\n",
       "      <th>4</th>\n",
       "      <td>motorola</td>\n",
       "      <td>Motorola Edge 60 Fusion</td>\n",
       "      <td>24598</td>\n",
       "      <td>86.0</td>\n",
       "      <td>True</td>\n",
       "      <td>False</td>\n",
       "      <td>False</td>\n",
       "      <td>dimensity</td>\n",
       "      <td>8</td>\n",
       "      <td>2.50</td>\n",
       "      <td>...</td>\n",
       "      <td>6.70</td>\n",
       "      <td>1220 x 2712</td>\n",
       "      <td>120.0</td>\n",
       "      <td>2</td>\n",
       "      <td>1</td>\n",
       "      <td>50.0</td>\n",
       "      <td>32.0</td>\n",
       "      <td>1</td>\n",
       "      <td>1024.0</td>\n",
       "      <td>android</td>\n",
       "    </tr>\n",
       "    <tr>\n",
       "      <th>...</th>\n",
       "      <td>...</td>\n",
       "      <td>...</td>\n",
       "      <td>...</td>\n",
       "      <td>...</td>\n",
       "      <td>...</td>\n",
       "      <td>...</td>\n",
       "      <td>...</td>\n",
       "      <td>...</td>\n",
       "      <td>...</td>\n",
       "      <td>...</td>\n",
       "      <td>...</td>\n",
       "      <td>...</td>\n",
       "      <td>...</td>\n",
       "      <td>...</td>\n",
       "      <td>...</td>\n",
       "      <td>...</td>\n",
       "      <td>...</td>\n",
       "      <td>...</td>\n",
       "      <td>...</td>\n",
       "      <td>...</td>\n",
       "      <td>...</td>\n",
       "    </tr>\n",
       "    <tr>\n",
       "      <th>897</th>\n",
       "      <td>itel</td>\n",
       "      <td>itel A50C</td>\n",
       "      <td>5549</td>\n",
       "      <td>NaN</td>\n",
       "      <td>False</td>\n",
       "      <td>False</td>\n",
       "      <td>False</td>\n",
       "      <td>unisoc</td>\n",
       "      <td>8</td>\n",
       "      <td>NaN</td>\n",
       "      <td>...</td>\n",
       "      <td>6.56</td>\n",
       "      <td>720 x 1612</td>\n",
       "      <td>60.0</td>\n",
       "      <td>1</td>\n",
       "      <td>1</td>\n",
       "      <td>8.0</td>\n",
       "      <td>5.0</td>\n",
       "      <td>1</td>\n",
       "      <td>NaN</td>\n",
       "      <td>android</td>\n",
       "    </tr>\n",
       "    <tr>\n",
       "      <th>898</th>\n",
       "      <td>itel</td>\n",
       "      <td>itel A50</td>\n",
       "      <td>5999</td>\n",
       "      <td>NaN</td>\n",
       "      <td>False</td>\n",
       "      <td>False</td>\n",
       "      <td>False</td>\n",
       "      <td>unisoc</td>\n",
       "      <td>8</td>\n",
       "      <td>NaN</td>\n",
       "      <td>...</td>\n",
       "      <td>6.60</td>\n",
       "      <td>720 x 1612</td>\n",
       "      <td>90.0</td>\n",
       "      <td>2</td>\n",
       "      <td>1</td>\n",
       "      <td>8.0</td>\n",
       "      <td>5.0</td>\n",
       "      <td>1</td>\n",
       "      <td>NaN</td>\n",
       "      <td>android</td>\n",
       "    </tr>\n",
       "    <tr>\n",
       "      <th>899</th>\n",
       "      <td>vivo</td>\n",
       "      <td>Vivo Y18i</td>\n",
       "      <td>8749</td>\n",
       "      <td>NaN</td>\n",
       "      <td>False</td>\n",
       "      <td>False</td>\n",
       "      <td>False</td>\n",
       "      <td>unisoc</td>\n",
       "      <td>8</td>\n",
       "      <td>NaN</td>\n",
       "      <td>...</td>\n",
       "      <td>6.56</td>\n",
       "      <td>720 x 1612</td>\n",
       "      <td>90.0</td>\n",
       "      <td>2</td>\n",
       "      <td>1</td>\n",
       "      <td>13.0</td>\n",
       "      <td>5.0</td>\n",
       "      <td>1</td>\n",
       "      <td>NaN</td>\n",
       "      <td>android</td>\n",
       "    </tr>\n",
       "    <tr>\n",
       "      <th>900</th>\n",
       "      <td>realme</td>\n",
       "      <td>Realme Narzo N63</td>\n",
       "      <td>8499</td>\n",
       "      <td>NaN</td>\n",
       "      <td>False</td>\n",
       "      <td>True</td>\n",
       "      <td>False</td>\n",
       "      <td>unisoc</td>\n",
       "      <td>8</td>\n",
       "      <td>1.80</td>\n",
       "      <td>...</td>\n",
       "      <td>6.75</td>\n",
       "      <td>720 x 1600</td>\n",
       "      <td>90.0</td>\n",
       "      <td>2</td>\n",
       "      <td>1</td>\n",
       "      <td>50.0</td>\n",
       "      <td>8.0</td>\n",
       "      <td>1</td>\n",
       "      <td>1024.0</td>\n",
       "      <td>android</td>\n",
       "    </tr>\n",
       "    <tr>\n",
       "      <th>901</th>\n",
       "      <td>realme</td>\n",
       "      <td>Realme Narzo N63 (4GB RAM + 128GB)</td>\n",
       "      <td>8899</td>\n",
       "      <td>NaN</td>\n",
       "      <td>False</td>\n",
       "      <td>True</td>\n",
       "      <td>False</td>\n",
       "      <td>unisoc</td>\n",
       "      <td>8</td>\n",
       "      <td>1.80</td>\n",
       "      <td>...</td>\n",
       "      <td>6.75</td>\n",
       "      <td>720 x 1600</td>\n",
       "      <td>90.0</td>\n",
       "      <td>2</td>\n",
       "      <td>1</td>\n",
       "      <td>50.0</td>\n",
       "      <td>8.0</td>\n",
       "      <td>1</td>\n",
       "      <td>1024.0</td>\n",
       "      <td>android</td>\n",
       "    </tr>\n",
       "  </tbody>\n",
       "</table>\n",
       "<p>902 rows × 25 columns</p>\n",
       "</div>"
      ],
      "text/plain": [
       "    brand_name                               model  price  rating     5G  \\\n",
       "0     motorola                Motorola Edge 60 Pro  29999    82.0   True   \n",
       "1         vivo                          Vivo T4 5G  21999    81.0   True   \n",
       "2      samsung            Samsung Galaxy S24 FE 5G  35558    86.0   True   \n",
       "3     motorola             Motorola Edge 60 Stylus  22990    88.0   True   \n",
       "4     motorola             Motorola Edge 60 Fusion  24598    86.0   True   \n",
       "..         ...                                 ...    ...     ...    ...   \n",
       "897       itel                           itel A50C   5549     NaN  False   \n",
       "898       itel                            itel A50   5999     NaN  False   \n",
       "899       vivo                           Vivo Y18i   8749     NaN  False   \n",
       "900     realme                    Realme Narzo N63   8499     NaN  False   \n",
       "901     realme  Realme Narzo N63 (4GB RAM + 128GB)   8899     NaN  False   \n",
       "\n",
       "       nfc  ir_blaster processor_brand  num_cores  processor_speed  ...  \\\n",
       "0     True       False       dimensity          8             3.35  ...   \n",
       "1    False        True      snapdragon          8             2.50  ...   \n",
       "2     True       False          exynos         10             3.11  ...   \n",
       "3     True       False      snapdragon          8             2.40  ...   \n",
       "4    False       False       dimensity          8             2.50  ...   \n",
       "..     ...         ...             ...        ...              ...  ...   \n",
       "897  False       False          unisoc          8              NaN  ...   \n",
       "898  False       False          unisoc          8              NaN  ...   \n",
       "899  False       False          unisoc          8              NaN  ...   \n",
       "900   True       False          unisoc          8             1.80  ...   \n",
       "901   True       False          unisoc          8             1.80  ...   \n",
       "\n",
       "     screen_size    resolution  refresh_rate  rear_cam_num  front_cam_num  \\\n",
       "0           6.70  1220 x 2712          120.0             3              1   \n",
       "1           6.77  1080 x 2392          120.0             2              1   \n",
       "2           6.70  1080 x 2340          120.0             3              1   \n",
       "3           6.70  1220 x 2712          120.0             2              1   \n",
       "4           6.70  1220 x 2712          120.0             2              1   \n",
       "..           ...           ...           ...           ...            ...   \n",
       "897         6.56   720 x 1612           60.0             1              1   \n",
       "898         6.60   720 x 1612           90.0             2              1   \n",
       "899         6.56   720 x 1612           90.0             2              1   \n",
       "900         6.75   720 x 1600           90.0             2              1   \n",
       "901         6.75   720 x 1600           90.0             2              1   \n",
       "\n",
       "     prim_rear_cam prim_front_cam  extended_memory_available  extended_upto  \\\n",
       "0             50.0           50.0                          0            NaN   \n",
       "1             50.0           32.0                          0            NaN   \n",
       "2             50.0           10.0                          0            NaN   \n",
       "3             50.0           32.0                          1         1024.0   \n",
       "4             50.0           32.0                          1         1024.0   \n",
       "..             ...            ...                        ...            ...   \n",
       "897            8.0            5.0                          1            NaN   \n",
       "898            8.0            5.0                          1            NaN   \n",
       "899           13.0            5.0                          1            NaN   \n",
       "900           50.0            8.0                          1         1024.0   \n",
       "901           50.0            8.0                          1         1024.0   \n",
       "\n",
       "          os  \n",
       "0    android  \n",
       "1    android  \n",
       "2    android  \n",
       "3    android  \n",
       "4    android  \n",
       "..       ...  \n",
       "897  android  \n",
       "898  android  \n",
       "899  android  \n",
       "900  android  \n",
       "901  android  \n",
       "\n",
       "[902 rows x 25 columns]"
      ]
     },
     "execution_count": 5,
     "metadata": {},
     "output_type": "execute_result"
    }
   ],
   "source": [
    "df"
   ]
  },
  {
   "cell_type": "markdown",
   "id": "5fc9f279",
   "metadata": {},
   "source": [
    "### Brand Name"
   ]
  },
  {
   "cell_type": "code",
   "execution_count": 9,
   "id": "e90b0f92",
   "metadata": {},
   "outputs": [
    {
     "data": {
      "text/plain": [
       "<Axes: xlabel='brand_name'>"
      ]
     },
     "execution_count": 9,
     "metadata": {},
     "output_type": "execute_result"
    },
    {
     "data": {
      "image/png": "[encoded data removed]",
      "text/plain": [
       "<Figure size 640x480 with 1 Axes>"
      ]
     },
     "metadata": {},
     "output_type": "display_data"
    }
   ],
   "source": [
    "# Plot a graph about top 5 brand\n",
    "\n",
    "df.brand_name.value_counts().head(10).plot(kind='bar')"
   ]
  },
  {
   "cell_type": "code",
   "execution_count": 10,
   "id": "501e8e21",
   "metadata": {},
   "outputs": [
    {
     "data": {
      "text/plain": [
       "<Axes: ylabel='count'>"
      ]
     },
     "execution_count": 10,
     "metadata": {},
     "output_type": "execute_result"
    },
    {
     "data": {
      "image/png": "[encoded data removed]",
      "text/plain": [
       "<Figure size 640x480 with 1 Axes>"
      ]
     },
     "metadata": {},
     "output_type": "display_data"
    }
   ],
   "source": [
    "# Pie Chart\n",
    "\n",
    "df.brand_name.value_counts().plot(kind='pie', autopct=\"%0.2f%%\")"
   ]
  },
  {
   "cell_type": "code",
   "execution_count": 11,
   "id": "a71616e2",
   "metadata": {},
   "outputs": [
    {
     "data": {
      "text/plain": [
       "np.int64(0)"
      ]
     },
     "execution_count": 11,
     "metadata": {},
     "output_type": "execute_result"
    }
   ],
   "source": [
    "df.brand_name.isnull().sum()"
   ]
  },
  {
   "cell_type": "markdown",
   "id": "c16e0cb4",
   "metadata": {},
   "source": [
    "### Model"
   ]
  },
  {
   "cell_type": "code",
   "execution_count": 12,
   "id": "93aa45ad",
   "metadata": {},
   "outputs": [
    {
     "data": {
      "text/plain": [
       "902"
      ]
     },
     "execution_count": 12,
     "metadata": {},
     "output_type": "execute_result"
    }
   ],
   "source": [
    "df.model.nunique()"
   ]
  },
  {
   "cell_type": "markdown",
   "id": "7c690858",
   "metadata": {},
   "source": [
    "### Price"
   ]
  },
  {
   "cell_type": "code",
   "execution_count": 13,
   "id": "3abb98a0",
   "metadata": {},
   "outputs": [
    {
     "data": {
      "text/plain": [
       "count       902.000000\n",
       "mean      28622.236142\n",
       "std       28639.078597\n",
       "min        5499.000000\n",
       "25%       12580.250000\n",
       "50%       19894.500000\n",
       "75%       29999.000000\n",
       "max      200999.000000\n",
       "Name: price, dtype: float64"
      ]
     },
     "execution_count": 13,
     "metadata": {},
     "output_type": "execute_result"
    }
   ],
   "source": [
    "df.price.describe()"
   ]
  },
  {
   "cell_type": "code",
   "execution_count": null,
   "id": "4c56876b",
   "metadata": {},
   "outputs": [],
   "source": []
  },
  {
   "cell_type": "code",
   "execution_count": null,
   "id": "23c69f4a",
   "metadata": {},
   "outputs": [],
   "source": []
  },
  {
   "cell_type": "code",
   "execution_count": null,
   "id": "f59e1f7a",
   "metadata": {},
   "outputs": [],
   "source": []
  },
  {
   "cell_type": "code",
   "execution_count": null,
   "id": "8b8fd343",
   "metadata": {},
   "outputs": [],
   "source": []
  },
  {
   "cell_type": "code",
   "execution_count": null,
   "id": "a0cf0fa4",
   "metadata": {},
   "outputs": [],
   "source": []
  },
  {
   "cell_type": "code",
   "execution_count": null,
   "id": "bfbe19b4",
   "metadata": {},
   "outputs": [],
   "source": []
  },
  {
   "cell_type": "code",
   "execution_count": null,
   "id": "15d695fc",
   "metadata": {},
   "outputs": [],
   "source": []
  }
 ],
 "metadata": {
  "kernelspec": {
   "display_name": "Python 3",
   "language": "python",
   "name": "python3"
  },
  "language_info": {
   "codemirror_mode": {
    "name": "ipython",
    "version": 3
   },
   "file_extension": ".py",
   "mimetype": "text/x-python",
   "name": "python",
   "nbconvert_exporter": "python",
   "pygments_lexer": "ipython3",
   "version": "3.11.9"
  }
 },
 "nbformat": 4,
 "nbformat_minor": 5
}
