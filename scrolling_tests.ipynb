{
 "cells": [
  {
   "cell_type": "code",
   "execution_count": 62,
   "id": "c6a2d4ce",
   "metadata": {},
   "outputs": [],
   "source": [
    "import time\n",
    "from selenium import webdriver\n",
    "import undetected_chromedriver as uc\n",
    "from selenium.webdriver.common.by import By\n",
    "from selenium.webdriver.common.keys import Keys\n",
    "from selenium.webdriver.chrome.options import Options"
   ]
  },
  {
   "cell_type": "code",
   "execution_count": 63,
   "id": "a5520065",
   "metadata": {},
   "outputs": [],
   "source": [
    "chrome_options = Options()\n",
    "chrome_options.add_argument(\"--disable-http2\")\n",
    "chrome_options.add_argument(\"--incognito\")\n",
    "chrome_options.add_argument(\"--disable-blink-features=AutomationControlled\")\n",
    "chrome_options.add_argument(\"--ignore-certificate-errors\")\n",
    "chrome_options.add_argument(\"--enable-features=NetworkServiceInProcess\")\n",
    "chrome_options.add_argument(\"--disable-features=NetworkService\")\n",
    "chrome_options.add_argument(\n",
    "    \"user-agent=Mozilla/5.0 (Windows NT 10.0; Win64; x64) AppleWebKit/537.36 (KHTML, like Gecko) Chrome/93.0.4577.63 Safari/537.36\"\n",
    ")"
   ]
  },
  {
   "cell_type": "code",
   "execution_count": 64,
   "id": "b667efc3",
   "metadata": {},
   "outputs": [],
   "source": [
    "driver = uc.Chrome(options=chrome_options)\n",
    "driver.maximize_window()"
   ]
  },
  {
   "cell_type": "code",
   "execution_count": 65,
   "id": "b9401b98",
   "metadata": {},
   "outputs": [],
   "source": [
    "url = \"https://www.ajio.com/men-backpacks/c/830201001\"\n",
    "driver.get(url)\n",
    "time.sleep(2)"
   ]
  },
  {
   "cell_type": "code",
   "execution_count": 66,
   "id": "3f2532cc",
   "metadata": {},
   "outputs": [],
   "source": [
    "old_height = driver.execute_script('return document.body.scrollHeight')\n",
    "time.sleep(2)"
   ]
  },
  {
   "cell_type": "code",
   "execution_count": 67,
   "id": "3d8ea819",
   "metadata": {},
   "outputs": [
    {
     "name": "stdout",
     "output_type": "stream",
     "text": [
      "1\n",
      "10202\n",
      "36302\n",
      "2\n",
      "36302\n",
      "62402\n",
      "3\n",
      "62402\n",
      "79802\n",
      "4\n",
      "79802\n",
      "97202\n",
      "5\n",
      "97202\n",
      "114602\n",
      "6\n",
      "114602\n",
      "140702\n",
      "7\n",
      "140702\n",
      "158102\n",
      "8\n",
      "158102\n",
      "175502\n",
      "9\n",
      "175502\n",
      "201602\n",
      "10\n",
      "201602\n",
      "210302\n",
      "11\n",
      "210302\n",
      "219002\n",
      "12\n",
      "219002\n",
      "245102\n",
      "13\n",
      "245102\n",
      "262502\n",
      "14\n",
      "262502\n",
      "279902\n",
      "15\n",
      "279902\n",
      "297302\n",
      "16\n",
      "297302\n",
      "314702\n",
      "17\n",
      "314702\n",
      "332102\n",
      "18\n",
      "332102\n",
      "349502\n",
      "19\n",
      "349502\n",
      "366902\n",
      "20\n",
      "366902\n",
      "384302\n",
      "21\n",
      "384302\n",
      "393002\n",
      "22\n",
      "393002\n",
      "410402\n",
      "23\n",
      "410402\n",
      "427802\n",
      "24\n",
      "427802\n",
      "445202\n",
      "25\n",
      "445202\n",
      "462602\n",
      "26\n",
      "462602\n",
      "480002\n",
      "27\n",
      "480002\n",
      "497402\n",
      "28\n",
      "497402\n",
      "514802\n",
      "29\n",
      "514802\n",
      "528142\n",
      "30\n",
      "528142\n",
      "528142\n"
     ]
    }
   ],
   "source": [
    "counter = 1\n",
    "while True:\n",
    "    driver.execute_script('window.scrollTo(0, document.body.scrollHeight)')\n",
    "    time.sleep(2)\n",
    "    \n",
    "    new_height = driver.execute_script('return document.body.scrollHeight')\n",
    "    \n",
    "    print(counter)\n",
    "    counter += 1\n",
    "    print(old_height)\n",
    "    print(new_height)\n",
    "    \n",
    "    if new_height == old_height:\n",
    "        break\n",
    "    \n",
    "    old_height = new_height\n",
    "\n"
   ]
  },
  {
   "cell_type": "code",
   "execution_count": 68,
   "id": "e5d46917",
   "metadata": {},
   "outputs": [],
   "source": [
    "html = driver.page_source\n",
    "\n",
    "with open('Backpack_Ajio.html', 'w', encoding='utf-8') as f:\n",
    "    f.write(html)"
   ]
  }
 ],
 "metadata": {
  "kernelspec": {
   "display_name": "Python 3",
   "language": "python",
   "name": "python3"
  },
  "language_info": {
   "codemirror_mode": {
    "name": "ipython",
    "version": 3
   },
   "file_extension": ".py",
   "mimetype": "text/x-python",
   "name": "python",
   "nbconvert_exporter": "python",
   "pygments_lexer": "ipython3",
   "version": "3.11.5"
  }
 },
 "nbformat": 4,
 "nbformat_minor": 5
}
